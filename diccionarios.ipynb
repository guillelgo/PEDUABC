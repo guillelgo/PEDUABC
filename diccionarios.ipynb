{
 "cells": [
  {
   "cell_type": "code",
   "execution_count": 1,
   "id": "ae3b820a-1a32-416a-b0d3-8d99cae825da",
   "metadata": {},
   "outputs": [
    {
     "name": "stdout",
     "output_type": "stream",
     "text": [
      "{'nombre': 'Juan Sanchez', 'matricula': 1294345, 'fechaalta': '16/08/2020'}\n"
     ]
    }
   ],
   "source": [
    "#1.1.4 DICCIONARIOS\n",
    "#Estructura de datos que nos permite guardar diferentes tipos de datos de\n",
    "#manera organizada y tienes llaves que identifican los diferentes datos.\n",
    "\n",
    "\n",
    "datosAlumno={\n",
    "    \"nombre\":\"Juan Sanchez\",\n",
    "    \"matricula\": 1294345,\n",
    "    \"fechaalta\": \"16/08/2020\" \n",
    "}\n",
    "\n",
    "print(datosAlumno)\n"
   ]
  },
  {
   "cell_type": "code",
   "execution_count": 2,
   "id": "76a81970-2b53-44a0-93b1-a06e57f59eea",
   "metadata": {},
   "outputs": [
    {
     "name": "stdout",
     "output_type": "stream",
     "text": [
      "{'codigo': 343435, 'descripcion': 'Jabon dove', 'Precio': 29.9}\n"
     ]
    }
   ],
   "source": [
    "datosProducto={\n",
    "    \"codigo\":343435,\n",
    "    \"descripcion\":\"Jabon dove\",\n",
    "    \"Precio\":29.90    \n",
    "}\n",
    "print(datosProducto)"
   ]
  },
  {
   "cell_type": "code",
   "execution_count": 3,
   "id": "550cf347-93e7-4f4c-ac4d-47e60777a702",
   "metadata": {},
   "outputs": [
    {
     "name": "stdout",
     "output_type": "stream",
     "text": [
      "Juan Sanchez\n"
     ]
    }
   ],
   "source": [
    "print(datosAlumno[\"nombre\"])"
   ]
  },
  {
   "cell_type": "code",
   "execution_count": 4,
   "id": "434eea54-1d94-46a0-874a-63926e048250",
   "metadata": {},
   "outputs": [
    {
     "name": "stdout",
     "output_type": "stream",
     "text": [
      "1294345\n"
     ]
    }
   ],
   "source": [
    "print(datosAlumno[\"matricula\"])"
   ]
  },
  {
   "cell_type": "code",
   "execution_count": 5,
   "id": "0345deaa-d7e1-4bea-aaff-6084bda3818c",
   "metadata": {},
   "outputs": [
    {
     "name": "stdout",
     "output_type": "stream",
     "text": [
      "Jabon dove\n"
     ]
    }
   ],
   "source": [
    "print(datosProducto[\"descripcion\"])"
   ]
  },
  {
   "cell_type": "code",
   "execution_count": 7,
   "id": "9ecd5261-ddf5-4a5f-8042-371f0f7f3c50",
   "metadata": {},
   "outputs": [
    {
     "name": "stdout",
     "output_type": "stream",
     "text": [
      "29.9\n"
     ]
    }
   ],
   "source": [
    "print(datosProducto[\"Precio\"])"
   ]
  },
  {
   "cell_type": "code",
   "execution_count": 12,
   "id": "3539b3b5-c2a4-46ee-ba0d-1509e9a85e7e",
   "metadata": {},
   "outputs": [
    {
     "name": "stdout",
     "output_type": "stream",
     "text": [
      "codigo\n",
      "descripcion\n",
      "Precio\n"
     ]
    }
   ],
   "source": [
    "for dato in datosProducto:\n",
    "    print(dato)"
   ]
  },
  {
   "cell_type": "code",
   "execution_count": 11,
   "id": "bcb916d8-c529-4ed7-b075-c8eb08f3f71f",
   "metadata": {},
   "outputs": [
    {
     "name": "stdout",
     "output_type": "stream",
     "text": [
      "codigo  =  343435\n",
      "descripcion  =  Jabon dove\n",
      "Precio  =  29.9\n"
     ]
    }
   ],
   "source": [
    "for dato in datosProducto:\n",
    "    print(dato,\" = \",datosProducto[dato])"
   ]
  },
  {
   "cell_type": "code",
   "execution_count": 13,
   "id": "24772b73-03be-43f5-9fba-2c9d51f7bf3e",
   "metadata": {},
   "outputs": [
    {
     "name": "stdout",
     "output_type": "stream",
     "text": [
      "dict_keys(['codigo', 'descripcion', 'Precio'])\n"
     ]
    }
   ],
   "source": [
    "print(datosProducto.keys())"
   ]
  },
  {
   "cell_type": "code",
   "execution_count": 14,
   "id": "e4b08cc3-c8e2-493f-ad9c-c78955b6b7e1",
   "metadata": {},
   "outputs": [
    {
     "name": "stdout",
     "output_type": "stream",
     "text": [
      "dict_values([343435, 'Jabon dove', 29.9])\n"
     ]
    }
   ],
   "source": [
    "print(datosProducto.values())"
   ]
  },
  {
   "cell_type": "code",
   "execution_count": 16,
   "id": "27a23348-af53-4e37-b874-d4fd8b424191",
   "metadata": {},
   "outputs": [
    {
     "data": {
      "text/plain": [
       "29.9"
      ]
     },
     "execution_count": 16,
     "metadata": {},
     "output_type": "execute_result"
    }
   ],
   "source": [
    "datosProducto.pop('Precio')"
   ]
  },
  {
   "cell_type": "code",
   "execution_count": 17,
   "id": "bc06859e-9519-4f88-adcd-77b9d638aed3",
   "metadata": {},
   "outputs": [
    {
     "name": "stdout",
     "output_type": "stream",
     "text": [
      "{'codigo': 343435, 'descripcion': 'Jabon dove'}\n"
     ]
    }
   ],
   "source": [
    "print(datosProducto)"
   ]
  },
  {
   "cell_type": "code",
   "execution_count": 18,
   "id": "9120c2fd-49bd-4212-80ea-d5d0b72cb6b6",
   "metadata": {},
   "outputs": [],
   "source": [
    "datosAlumno.update(datosProducto)"
   ]
  },
  {
   "cell_type": "code",
   "execution_count": 20,
   "id": "79c3230a-bed7-400e-933c-44da4722394e",
   "metadata": {},
   "outputs": [
    {
     "name": "stdout",
     "output_type": "stream",
     "text": [
      "{'nombre': 'Juan Sanchez', 'matricula': 1294345, 'fechaalta': '16/08/2020', 'codigo': 343435, 'descripcion': 'Jabon dove'}\n"
     ]
    }
   ],
   "source": [
    "print(datosAlumno)"
   ]
  },
  {
   "cell_type": "code",
   "execution_count": 21,
   "id": "f7a60562-58f3-48ca-b978-354959a6a143",
   "metadata": {},
   "outputs": [
    {
     "data": {
      "text/plain": [
       "{'nombre': 'Juan Sanchez',\n",
       " 'matricula': 1294345,\n",
       " 'fechaalta': '16/08/2020',\n",
       " 'codigo': 343435}"
      ]
     },
     "execution_count": 21,
     "metadata": {},
     "output_type": "execute_result"
    }
   ],
   "source": [
    "datosAlumno.popitem()\n",
    "datosAlumno"
   ]
  },
  {
   "cell_type": "code",
   "execution_count": 22,
   "id": "1f6c0927-aba1-4b52-aaf8-3e576ebf7618",
   "metadata": {},
   "outputs": [],
   "source": [
    "datosProducto['codigo'] = 1237678"
   ]
  },
  {
   "cell_type": "code",
   "execution_count": 23,
   "id": "a2a12cbb-183f-45ed-aba2-178577817ad9",
   "metadata": {},
   "outputs": [
    {
     "data": {
      "text/plain": [
       "{'codigo': 1237678, 'descripcion': 'Jabon dove'}"
      ]
     },
     "execution_count": 23,
     "metadata": {},
     "output_type": "execute_result"
    }
   ],
   "source": [
    "datosProducto"
   ]
  },
  {
   "cell_type": "code",
   "execution_count": 26,
   "id": "8b5c09ef-d69d-49ce-a867-1ecf24ea1d3d",
   "metadata": {},
   "outputs": [
    {
     "data": {
      "text/plain": [
       "{'house': 'casa', 'school': 'escuela', 'water': 'agua', 'sky': 'cielo'}"
      ]
     },
     "execution_count": 26,
     "metadata": {},
     "output_type": "execute_result"
    }
   ],
   "source": [
    "diccioninglesespanol ={\n",
    "    \"house\":\"casa\",\n",
    "    \"school\":\"escuela\",\n",
    "    \"water\":\"agua\",\n",
    "    \"sky\":\"cielo\"\n",
    "}\n",
    "diccioninglesespanol"
   ]
  },
  {
   "cell_type": "code",
   "execution_count": 27,
   "id": "b7947725-e4f2-4e96-a055-2f51312140a9",
   "metadata": {},
   "outputs": [
    {
     "data": {
      "text/plain": [
       "'cielo'"
      ]
     },
     "execution_count": 27,
     "metadata": {},
     "output_type": "execute_result"
    }
   ],
   "source": [
    "diccioninglesespanol[\"sky\"]"
   ]
  },
  {
   "cell_type": "code",
   "execution_count": null,
   "id": "dc79e4be-14e6-4058-84cf-f85d9652a8f6",
   "metadata": {},
   "outputs": [],
   "source": []
  }
 ],
 "metadata": {
  "kernelspec": {
   "display_name": "Python 3 (ipykernel)",
   "language": "python",
   "name": "python3"
  },
  "language_info": {
   "codemirror_mode": {
    "name": "ipython",
    "version": 3
   },
   "file_extension": ".py",
   "mimetype": "text/x-python",
   "name": "python",
   "nbconvert_exporter": "python",
   "pygments_lexer": "ipython3",
   "version": "3.11.0"
  }
 },
 "nbformat": 4,
 "nbformat_minor": 5
}
