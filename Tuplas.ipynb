{
 "cells": [
  {
   "cell_type": "code",
   "execution_count": 2,
   "id": "ebdc8edc-241c-437e-9621-79c695642be3",
   "metadata": {},
   "outputs": [
    {
     "name": "stdout",
     "output_type": "stream",
     "text": [
      "('1', 'b', '3', 'x')\n"
     ]
    }
   ],
   "source": [
    "#Tuplas\n",
    "#Datos que que guardan grupos y que no se pueden modificar\n",
    "\n",
    "tupla = ('1','b','3','x')\n",
    "print(tupla)"
   ]
  },
  {
   "cell_type": "code",
   "execution_count": 3,
   "id": "46799f45-943e-46ff-8722-ef5571c88573",
   "metadata": {},
   "outputs": [
    {
     "name": "stdout",
     "output_type": "stream",
     "text": [
      "(10, 3, 7, 0)\n"
     ]
    }
   ],
   "source": [
    "\n",
    "tupla2 = (10,3,7,0)\n",
    "print(tupla2)"
   ]
  },
  {
   "cell_type": "code",
   "execution_count": 4,
   "id": "296d476a-11f9-4ab6-9e6a-e2adebedef41",
   "metadata": {},
   "outputs": [
    {
     "name": "stdout",
     "output_type": "stream",
     "text": [
      "<class 'tuple'>\n"
     ]
    }
   ],
   "source": [
    "print(type(tupla))"
   ]
  },
  {
   "cell_type": "code",
   "execution_count": 5,
   "id": "d77ef400-b0a6-4e15-834a-2f16334dda44",
   "metadata": {},
   "outputs": [
    {
     "name": "stdout",
     "output_type": "stream",
     "text": [
      "[10, 3, 7, 0]\n",
      "<class 'list'>\n"
     ]
    }
   ],
   "source": [
    "lista = [10,3,7,0]\n",
    "print(lista)\n",
    "print(type(lista))"
   ]
  },
  {
   "cell_type": "code",
   "execution_count": 6,
   "id": "23b41068-c49b-40c3-98c6-b20428ebd35d",
   "metadata": {},
   "outputs": [
    {
     "name": "stdout",
     "output_type": "stream",
     "text": [
      "(23, 'Hola', 4, 5.7)\n"
     ]
    }
   ],
   "source": [
    "tupla3=(23,'Hola',4,5.7)\n",
    "print(tupla3)"
   ]
  },
  {
   "cell_type": "code",
   "execution_count": 8,
   "id": "fa8ea185-7a44-4c99-9ad4-8a18b76911a9",
   "metadata": {},
   "outputs": [
    {
     "name": "stdout",
     "output_type": "stream",
     "text": [
      "23\n"
     ]
    }
   ],
   "source": [
    "print(tupla3[0])"
   ]
  },
  {
   "cell_type": "code",
   "execution_count": 10,
   "id": "721438a3-0eae-4a8a-b87d-154945a0d5d9",
   "metadata": {},
   "outputs": [],
   "source": [
    "a,b,c,d = tupla3"
   ]
  },
  {
   "cell_type": "code",
   "execution_count": 11,
   "id": "9206d3c2-9835-4612-8247-1500397f2f92",
   "metadata": {},
   "outputs": [
    {
     "name": "stdout",
     "output_type": "stream",
     "text": [
      "23\n"
     ]
    }
   ],
   "source": [
    "print(a)"
   ]
  },
  {
   "cell_type": "code",
   "execution_count": 12,
   "id": "e6c49bcd-8a42-498c-8613-6eaf9853e87f",
   "metadata": {},
   "outputs": [
    {
     "name": "stdout",
     "output_type": "stream",
     "text": [
      "Hola\n"
     ]
    }
   ],
   "source": [
    "print(b)"
   ]
  },
  {
   "cell_type": "code",
   "execution_count": 13,
   "id": "22fb84f8-6fbb-4642-ae59-998d76e6904a",
   "metadata": {},
   "outputs": [
    {
     "name": "stdout",
     "output_type": "stream",
     "text": [
      "4\n"
     ]
    }
   ],
   "source": [
    "print(c)"
   ]
  },
  {
   "cell_type": "code",
   "execution_count": 14,
   "id": "8fb1a1be-02a3-4343-a956-085055de6e3a",
   "metadata": {},
   "outputs": [
    {
     "name": "stdout",
     "output_type": "stream",
     "text": [
      "5.7\n"
     ]
    }
   ],
   "source": [
    "print(d)"
   ]
  },
  {
   "cell_type": "code",
   "execution_count": 15,
   "id": "32ad4be5-4fcb-476c-8047-8e9e698b51a5",
   "metadata": {},
   "outputs": [
    {
     "name": "stdout",
     "output_type": "stream",
     "text": [
      "<class 'float'>\n"
     ]
    }
   ],
   "source": [
    "print(type(d))"
   ]
  },
  {
   "cell_type": "code",
   "execution_count": 16,
   "id": "70fe84bd-de07-432d-a022-8266d1a65d5e",
   "metadata": {},
   "outputs": [
    {
     "name": "stdout",
     "output_type": "stream",
     "text": [
      "<class 'str'>\n"
     ]
    }
   ],
   "source": [
    "print(type(b))"
   ]
  },
  {
   "cell_type": "code",
   "execution_count": 17,
   "id": "32ae3c59-5dc1-4a9c-9beb-91e85c553013",
   "metadata": {},
   "outputs": [
    {
     "name": "stdout",
     "output_type": "stream",
     "text": [
      "<class 'int'>\n"
     ]
    }
   ],
   "source": [
    "print(type(a))"
   ]
  },
  {
   "cell_type": "code",
   "execution_count": 18,
   "id": "ba4b6d42-54d0-4096-b340-b5a0962ff8f4",
   "metadata": {},
   "outputs": [],
   "source": [
    "listax = list(tupla3)"
   ]
  },
  {
   "cell_type": "code",
   "execution_count": 19,
   "id": "32850a24-6cc0-4b9c-9407-9b45a60eebb8",
   "metadata": {},
   "outputs": [
    {
     "name": "stdout",
     "output_type": "stream",
     "text": [
      "[23, 'Hola', 4, 5.7]\n"
     ]
    }
   ],
   "source": [
    "print(listax)"
   ]
  },
  {
   "cell_type": "code",
   "execution_count": 20,
   "id": "0fbccc9a-767d-481c-8944-e2f6a988fd59",
   "metadata": {},
   "outputs": [],
   "source": [
    "listax.append(2)"
   ]
  },
  {
   "cell_type": "code",
   "execution_count": 21,
   "id": "0ad8de5a-186c-4699-ae80-2f7ab3045864",
   "metadata": {},
   "outputs": [
    {
     "name": "stdout",
     "output_type": "stream",
     "text": [
      "[23, 'Hola', 4, 5.7, 2]\n"
     ]
    }
   ],
   "source": [
    "print(listax)"
   ]
  },
  {
   "cell_type": "code",
   "execution_count": 22,
   "id": "66632f4b-8f10-49be-b4b8-7463a3f81cab",
   "metadata": {},
   "outputs": [],
   "source": [
    "tupla4 = tuple(listax)"
   ]
  },
  {
   "cell_type": "code",
   "execution_count": 23,
   "id": "33df558e-89c1-402e-95af-4a850988085e",
   "metadata": {},
   "outputs": [
    {
     "name": "stdout",
     "output_type": "stream",
     "text": [
      "(23, 'Hola', 4, 5.7, 2)\n"
     ]
    }
   ],
   "source": [
    "print(tupla4)"
   ]
  },
  {
   "cell_type": "code",
   "execution_count": 24,
   "id": "96f7c5c9-8870-4dd4-9729-a61444a95471",
   "metadata": {},
   "outputs": [],
   "source": [
    "tupla5=(2,4,5,7,8,9,6,5,2)"
   ]
  },
  {
   "cell_type": "code",
   "execution_count": 25,
   "id": "e729413d-0da9-4860-acf2-eba7ec402a73",
   "metadata": {},
   "outputs": [
    {
     "name": "stdout",
     "output_type": "stream",
     "text": [
      "(2, 4, 5, 7, 8, 9, 6, 5, 2)\n"
     ]
    }
   ],
   "source": [
    "print(tupla5)"
   ]
  },
  {
   "cell_type": "code",
   "execution_count": 26,
   "id": "c783bb52-7782-466f-b83f-8a3a36263fb9",
   "metadata": {},
   "outputs": [
    {
     "name": "stdout",
     "output_type": "stream",
     "text": [
      "2\n"
     ]
    }
   ],
   "source": [
    "print(tupla5.count(2))"
   ]
  },
  {
   "cell_type": "code",
   "execution_count": 28,
   "id": "73364df1-4f44-4773-9818-e939616c8399",
   "metadata": {},
   "outputs": [
    {
     "name": "stdout",
     "output_type": "stream",
     "text": [
      "1\n"
     ]
    }
   ],
   "source": [
    "print(tupla5.count(6))"
   ]
  },
  {
   "cell_type": "code",
   "execution_count": 29,
   "id": "8c13717f-4ef6-4edb-895b-9f5a848df9ec",
   "metadata": {},
   "outputs": [
    {
     "name": "stdout",
     "output_type": "stream",
     "text": [
      "2\n"
     ]
    }
   ],
   "source": [
    "print(tupla5.count(5))"
   ]
  },
  {
   "cell_type": "code",
   "execution_count": 30,
   "id": "9c28397f-e3be-4e52-807a-1b8023e3052e",
   "metadata": {},
   "outputs": [
    {
     "name": "stdout",
     "output_type": "stream",
     "text": [
      "0\n"
     ]
    }
   ],
   "source": [
    "print(tupla5.count(33))"
   ]
  },
  {
   "cell_type": "code",
   "execution_count": 31,
   "id": "718880d2-f7f3-4b1a-a208-90e8e0ea34a5",
   "metadata": {},
   "outputs": [
    {
     "name": "stdout",
     "output_type": "stream",
     "text": [
      "3\n"
     ]
    }
   ],
   "source": [
    "print(tupla5.index(7))"
   ]
  },
  {
   "cell_type": "code",
   "execution_count": 32,
   "id": "474cc7da-e747-45ce-b5c3-fffd28f5c0aa",
   "metadata": {},
   "outputs": [
    {
     "name": "stdout",
     "output_type": "stream",
     "text": [
      "(5, 7, 8, 9, 6, 5, 2)\n"
     ]
    }
   ],
   "source": [
    "print(tupla5[2:9])"
   ]
  },
  {
   "cell_type": "code",
   "execution_count": 33,
   "id": "8daeb3ac-0bec-4403-8c26-c9c6e1a3e9da",
   "metadata": {},
   "outputs": [
    {
     "name": "stdout",
     "output_type": "stream",
     "text": [
      "(8, 9, 6)\n"
     ]
    }
   ],
   "source": [
    "print(tupla5[4:7])"
   ]
  },
  {
   "cell_type": "code",
   "execution_count": 35,
   "id": "5c2079ef-8890-4665-94d6-b197e0582cc3",
   "metadata": {},
   "outputs": [
    {
     "name": "stdout",
     "output_type": "stream",
     "text": [
      "(6, 5, 2)\n"
     ]
    }
   ],
   "source": [
    "print(tupla5[6:])"
   ]
  },
  {
   "cell_type": "code",
   "execution_count": 36,
   "id": "c2bab645-b8cd-41ae-8e8d-e8cbd62150c4",
   "metadata": {},
   "outputs": [
    {
     "name": "stdout",
     "output_type": "stream",
     "text": [
      "(2, 4, 5, 7)\n"
     ]
    }
   ],
   "source": [
    "print(tupla5[:4])"
   ]
  },
  {
   "cell_type": "code",
   "execution_count": 38,
   "id": "27001ac8-a47c-4fb6-8e2a-d547198ce425",
   "metadata": {},
   "outputs": [
    {
     "name": "stdout",
     "output_type": "stream",
     "text": [
      "(2, 4, 5, 7, 8, 9, 6)\n"
     ]
    }
   ],
   "source": [
    "print(tupla5[:-2])"
   ]
  },
  {
   "cell_type": "code",
   "execution_count": 39,
   "id": "0d38e11c-9056-4fec-a967-ed2b5f015f1a",
   "metadata": {},
   "outputs": [
    {
     "name": "stdout",
     "output_type": "stream",
     "text": [
      "(5, 2)\n"
     ]
    }
   ],
   "source": [
    "print(tupla5[-2:])"
   ]
  },
  {
   "cell_type": "code",
   "execution_count": null,
   "id": "aa57d7a6-48a0-4d48-b89f-4152bf64e82a",
   "metadata": {},
   "outputs": [],
   "source": [
    "#EJERCICIO TUPLAS\n",
    "#Hacer un programa con el siguiente menu:\n",
    "#TUPLAS\n",
    "#1-Crear tupla con 5 datos dados usuario\n",
    "#2-Buscar un elemento (indice)\n",
    "#3-Mostrar la tupla\n",
    "#4-Salir\n"
   ]
  }
 ],
 "metadata": {
  "kernelspec": {
   "display_name": "Python 3 (ipykernel)",
   "language": "python",
   "name": "python3"
  },
  "language_info": {
   "codemirror_mode": {
    "name": "ipython",
    "version": 3
   },
   "file_extension": ".py",
   "mimetype": "text/x-python",
   "name": "python",
   "nbconvert_exporter": "python",
   "pygments_lexer": "ipython3",
   "version": "3.11.0"
  }
 },
 "nbformat": 4,
 "nbformat_minor": 5
}
